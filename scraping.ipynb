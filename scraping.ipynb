{
 "cells": [
  {
   "cell_type": "code",
   "execution_count": null,
   "metadata": {},
   "outputs": [],
   "source": [
    "# 검색어 입력 받어서 URL 만들기\n",
    "from urllib.parse import quote\n",
    "string = input(\"검색어를 입력하세요:\")\n",
    "print(string)\n",
    "keyword = quote(string)\n",
    "print(keyword)\n",
    "target_URL = "
   ]
  }
 ],
 "metadata": {
  "kernelspec": {
   "display_name": "Python 3",
   "language": "python",
   "name": "python3"
  },
  "language_info": {
   "name": "python",
   "version": "3.12.1"
  }
 },
 "nbformat": 4,
 "nbformat_minor": 2
}
